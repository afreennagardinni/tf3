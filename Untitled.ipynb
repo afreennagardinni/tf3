{
 "cells": [
  {
   "cell_type": "code",
   "execution_count": 1,
   "id": "7af68186",
   "metadata": {},
   "outputs": [],
   "source": [
    "import tensorflow as tf\n",
    "from tensorflow import keras\n",
    "import os, datetime"
   ]
  },
  {
   "cell_type": "code",
   "execution_count": 2,
   "id": "50d1d613",
   "metadata": {},
   "outputs": [],
   "source": [
    "mnist = tf.keras.datasets.mnist"
   ]
  },
  {
   "cell_type": "code",
   "execution_count": 3,
   "id": "ca8e53b1",
   "metadata": {},
   "outputs": [],
   "source": [
    "(x_train, y_train),(x_test, y_test) = mnist.load_data()"
   ]
  },
  {
   "cell_type": "code",
   "execution_count": 4,
   "id": "9f2c8748",
   "metadata": {},
   "outputs": [
    {
     "name": "stdout",
     "output_type": "stream",
     "text": [
      "Shape is: (28, 28)\n"
     ]
    },
    {
     "data": {
      "image/png": "[encoded data removed]",
      "text/plain": [
       "<Figure size 640x480 with 1 Axes>"
      ]
     },
     "metadata": {},
     "output_type": "display_data"
    },
    {
     "name": "stdout",
     "output_type": "stream",
     "text": [
      "First Digit in y_train is 5\n"
     ]
    }
   ],
   "source": [
    "print(\"Shape is:\", x_train[0].shape)\n",
    "#print(\"Sample data from data set is:\\n\",x_train[0])\n",
    "import matplotlib.pyplot as plt\n",
    "plt.imshow(x_train[0])\n",
    "plt.show()\n",
    "print(\"First Digit in y_train is\",y_train[0])"
   ]
  },
  {
   "cell_type": "code",
   "execution_count": 16,
   "id": "26295a82",
   "metadata": {},
   "outputs": [],
   "source": [
    "x_train, x_test = x_train / 255.0, x_test / 255.0\n",
    "#x_train[0]\n"
   ]
  },
  {
   "cell_type": "code",
   "execution_count": 7,
   "id": "f69c9747",
   "metadata": {},
   "outputs": [],
   "source": [
    "#def create_model():\n",
    "model = tf.keras.models.Sequential([\n",
    "tf.keras.layers.Flatten(input_shape=(28, 28)),\n",
    "tf.keras.layers.Dense(512, activation='relu'),\n",
    "tf.keras.layers.Dropout(0.2),\n",
    "tf.keras.layers.Dense(10, activation='softmax')])"
   ]
  },
  {
   "cell_type": "code",
   "execution_count": 8,
   "id": "e36c7baa",
   "metadata": {},
   "outputs": [],
   "source": [
    "#model=create_model()\n",
    "# Compile the model\n",
    "model.compile(optimizer='adam',\n",
    "loss='sparse_categorical_crossentropy',\n",
    "metrics=['accuracy'])"
   ]
  },
  {
   "cell_type": "code",
   "execution_count": 9,
   "id": "da6eec1a",
   "metadata": {},
   "outputs": [],
   "source": [
    "logdir = os.path.join(\"logs\", datetime.datetime.now().strftime(\"%Y%m%d-%H%M%S\"))\n",
    "tensorboard_callback = tf.keras.callbacks.TensorBoard(logdir, histogram_freq=1)"
   ]
  },
  {
   "cell_type": "code",
   "execution_count": 10,
   "id": "5196d28f",
   "metadata": {},
   "outputs": [],
   "source": [
    "checkpoint_path = \"training_2/cp-{epoch:04d}.ckpt\"\n",
    "checkpoint_dir = os.path.dirname(checkpoint_path)\n",
    "checkpoint_callback = tf.keras.callbacks.ModelCheckpoint(\n",
    "checkpoint_path, monitor='val_acc', verbose=1, save_weights_only=True,\n",
    "# Save weights, every epoch.\n",
    "save_freq='epoch')\n"
   ]
  },
  {
   "cell_type": "code",
   "execution_count": 11,
   "id": "576694d4",
   "metadata": {},
   "outputs": [
    {
     "name": "stdout",
     "output_type": "stream",
     "text": [
      "Epoch 1/5\n",
      "1871/1875 [============================>.] - ETA: 0s - loss: 0.2213 - accuracy: 0.9330\n",
      "Epoch 1: saving model to training_2\\cp-0001.ckpt\n",
      "1875/1875 [==============================] - 13s 7ms/step - loss: 0.2213 - accuracy: 0.9330 - val_loss: 0.1094 - val_accuracy: 0.9662\n",
      "Epoch 2/5\n",
      "1870/1875 [============================>.] - ETA: 0s - loss: 0.0966 - accuracy: 0.9708\n",
      "Epoch 2: saving model to training_2\\cp-0002.ckpt\n",
      "1875/1875 [==============================] - 12s 6ms/step - loss: 0.0966 - accuracy: 0.9708 - val_loss: 0.0783 - val_accuracy: 0.9761\n",
      "Epoch 3/5\n",
      "1868/1875 [============================>.] - ETA: 0s - loss: 0.0675 - accuracy: 0.9786\n",
      "Epoch 3: saving model to training_2\\cp-0003.ckpt\n",
      "1875/1875 [==============================] - 12s 7ms/step - loss: 0.0677 - accuracy: 0.9785 - val_loss: 0.0703 - val_accuracy: 0.9774\n",
      "Epoch 4/5\n",
      "1872/1875 [============================>.] - ETA: 0s - loss: 0.0527 - accuracy: 0.9831\n",
      "Epoch 4: saving model to training_2\\cp-0004.ckpt\n",
      "1875/1875 [==============================] - 12s 6ms/step - loss: 0.0527 - accuracy: 0.9831 - val_loss: 0.0681 - val_accuracy: 0.9793\n",
      "Epoch 5/5\n",
      "1871/1875 [============================>.] - ETA: 0s - loss: 0.0431 - accuracy: 0.9860\n",
      "Epoch 5: saving model to training_2\\cp-0005.ckpt\n",
      "1875/1875 [==============================] - 12s 6ms/step - loss: 0.0431 - accuracy: 0.9860 - val_loss: 0.0573 - val_accuracy: 0.9819\n",
      "313/313 [==============================] - 1s 2ms/step - loss: 0.0573 - accuracy: 0.9819\n",
      "Original model, accuracy: 98.19%\n"
     ]
    }
   ],
   "source": [
    "history = model.fit(x_train, y_train, epochs=5,validation_data=(x_test, y_test), callbacks=[tensorboard_callback, checkpoint_callback])\n",
    "loss, acc = model.evaluate(x_test, y_test,verbose=1)\n",
    "print(\"Original model, accuracy: {:5.2f}%\".format(100*acc))\n"
   ]
  },
  {
   "cell_type": "code",
   "execution_count": 12,
   "id": "4935977d",
   "metadata": {},
   "outputs": [
    {
     "name": "stderr",
     "output_type": "stream",
     "text": [
      "WARNING:absl:Found untraced functions such as _update_step_xla while saving (showing 1 of 1). These functions will not be directly callable after loading.\n"
     ]
    },
    {
     "name": "stdout",
     "output_type": "stream",
     "text": [
      "INFO:tensorflow:Assets written to: MyModel\\assets\n"
     ]
    },
    {
     "name": "stderr",
     "output_type": "stream",
     "text": [
      "INFO:tensorflow:Assets written to: MyModel\\assets\n"
     ]
    }
   ],
   "source": [
    "model.save('MyModel',save_format='tf')"
   ]
  },
  {
   "cell_type": "code",
   "execution_count": 13,
   "id": "83c911db",
   "metadata": {},
   "outputs": [
    {
     "name": "stdout",
     "output_type": "stream",
     "text": [
      "313/313 [==============================] - 1s 2ms/step - loss: 0.0573 - accuracy: 0.9819\n",
      "Loaded model, accuracy: 98.19%\n"
     ]
    }
   ],
   "source": [
    "loaded_model = tf.keras.models.load_model('MyModel')\n",
    "loaded_loss, loaded_acc = loaded_model.evaluate(x_test, y_test,verbose=1)\n",
    "print(\"Loaded model, accuracy: {:5.2f}%\".format(100*loaded_acc))"
   ]
  },
  {
   "cell_type": "code",
   "execution_count": 14,
   "id": "96191bf6",
   "metadata": {},
   "outputs": [],
   "source": [
    "#%load_ext tensorboard"
   ]
  },
  {
   "cell_type": "code",
   "execution_count": 15,
   "id": "872b1ebb",
   "metadata": {},
   "outputs": [
    {
     "data": {
      "image/png": "[encoded data removed]",
      "text/plain": [
       "<Figure size 640x480 with 1 Axes>"
      ]
     },
     "metadata": {},
     "output_type": "display_data"
    }
   ],
   "source": [
    "# Plot accuracy and loss\n",
    "import matplotlib.pyplot as plt\n",
    "# summarize history for accuracy\n",
    "plt.plot(history.history['accuracy'],'-*')\n",
    "plt.plot(history.history['val_accuracy'],'--o')\n",
    "plt.title('Accuracy: Train and Validation', fontsize=14, fontweight='bold')\n",
    "plt.ylabel('Accuracy', fontsize=12, fontweight='bold')\n",
    "plt.xlabel('Epochs', fontsize=12, fontweight='bold')\n",
    "plt.legend([\"Train\",\"Validation\"], loc=\"upper left\")\n",
    "plt.show()\n"
   ]
  },
  {
   "cell_type": "code",
   "execution_count": null,
   "id": "0a9605bf",
   "metadata": {},
   "outputs": [],
   "source": []
  }
 ],
 "metadata": {
  "kernelspec": {
   "display_name": "Python 3 (ipykernel)",
   "language": "python",
   "name": "python3"
  },
  "language_info": {
   "codemirror_mode": {
    "name": "ipython",
    "version": 3
   },
   "file_extension": ".py",
   "mimetype": "text/x-python",
   "name": "python",
   "nbconvert_exporter": "python",
   "pygments_lexer": "ipython3",
   "version": "3.9.13"
  }
 },
 "nbformat": 4,
 "nbformat_minor": 5
}
